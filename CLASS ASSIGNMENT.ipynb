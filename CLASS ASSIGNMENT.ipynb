{
 "cells": [
  {
   "cell_type": "markdown",
   "id": "f1fd3994",
   "metadata": {},
   "source": [
    "# ASSIGNMENT"
   ]
  },
  {
   "cell_type": "code",
   "execution_count": null,
   "id": "187f80c0",
   "metadata": {},
   "outputs": [],
   "source": [
    "# Print all elements of a list using for loop"
   ]
  },
  {
   "cell_type": "code",
   "execution_count": 1,
   "id": "bb47fc50",
   "metadata": {},
   "outputs": [
    {
     "name": "stdout",
     "output_type": "stream",
     "text": [
      "orange\n",
      "pineapple\n",
      "cherry\n",
      "mango\n"
     ]
    }
   ],
   "source": [
    "fruit_list = ['orange', 'pineapple','cherry','mango']\n",
    "for i in (fruit_list):\n",
    "    print(i)"
   ]
  },
  {
   "cell_type": "code",
   "execution_count": null,
   "id": "a3c528f0",
   "metadata": {},
   "outputs": [],
   "source": [
    "# A company decided to give bonus of 5% to employee if his/her year of service is more than 5 years. \n",
    "# Ask user for their salary and year of service and print the net bonus amount"
   ]
  },
  {
   "cell_type": "code",
   "execution_count": 28,
   "id": "4715c815",
   "metadata": {},
   "outputs": [
    {
     "ename": "SyntaxError",
     "evalue": "invalid syntax (99109228.py, line 3)",
     "output_type": "error",
     "traceback": [
      "\u001b[1;36m  Input \u001b[1;32mIn [28]\u001b[1;36m\u001b[0m\n\u001b[1;33m    if(years >= 5)\u001b[0m\n\u001b[1;37m                  ^\u001b[0m\n\u001b[1;31mSyntaxError\u001b[0m\u001b[1;31m:\u001b[0m invalid syntax\n"
     ]
    }
   ],
   "source": [
    "salary = int(input('enter salary'))\n",
    "years = int(input('enter years of service given to the company'))\n",
    "if(years >= 5)\n",
    "    print(\"net bonus is\",0.05*salary)\n",
    "    else:\n",
    "        print('no bonus')"
   ]
  },
  {
   "cell_type": "code",
   "execution_count": null,
   "id": "2f1e7d55",
   "metadata": {},
   "outputs": [],
   "source": [
    "#Take input of age of 3 people by user and determine oldest and youngest among them."
   ]
  },
  {
   "cell_type": "code",
   "execution_count": 6,
   "id": "5e2e925c",
   "metadata": {},
   "outputs": [
    {
     "name": "stdout",
     "output_type": "stream",
     "text": [
      "Enter age Person 1: 5\n",
      "Enter age Person 2: 7\n",
      "Enter age Person 3: 4\n",
      "\n",
      "Person 2 is the oldest\n",
      "Person 3 is the youngest\n"
     ]
    }
   ],
   "source": [
    "age1 = int(input(\"Enter age Person 1: \"))\n",
    "age2 = int(input(\"Enter age Person 2: \"))\n",
    "age3 = int(input(\"Enter age Person 3: \"))\n",
    "print()\n",
    "if (age1 > age2) & (age1 > age3):\n",
    "    print('Person 1 is the oldest')\n",
    "    if age2 < age3:\n",
    "        print('Person 2 is the youngest')\n",
    "    else:\n",
    "        print('Person 3 is the youngest')\n",
    "elif (age2 > age1) & (age2 > age3):\n",
    "    print('Person 2 is the oldest')\n",
    "    if age1 < age3:\n",
    "        print('Person 1 is the youngest')\n",
    "    else:\n",
    "        print('Person 3 is the youngest')\n",
    "else:\n",
    "     print('Person 3 is the oldest')\n",
    "     if age1 < age2:\n",
    "         print('Person 1 is the youngest')\n",
    "     else:\n",
    "         print('Person 2 is the youngest')"
   ]
  },
  {
   "cell_type": "code",
   "execution_count": 11,
   "id": "4d0a0813",
   "metadata": {},
   "outputs": [
    {
     "name": "stdout",
     "output_type": "stream",
     "text": [
      "{'ade': 1, 'don': 2, 'jane': 3, 'ken': 4, 'nkechi': 'london', 'mary': 'canada', 'mike': 'astralia'}\n"
     ]
    }
   ],
   "source": [
    "#Write a Python script to merge two Python dictionaries\n",
    "my_dict1 = {'ade':1,'don':2,'jane':3,'ken':4}\n",
    "my_dict2 = {'nkechi':'london','mary':'canada','mike':'astralia'}\n",
    "my_dict3 = my_dict1.copy()\n",
    "my_dict3.update(my_dict2)\n",
    "print (my_dict3)"
   ]
  },
  {
   "cell_type": "code",
   "execution_count": 15,
   "id": "9d95fd8d",
   "metadata": {},
   "outputs": [
    {
     "name": "stdout",
     "output_type": "stream",
     "text": [
      "Largest element is: 6000\n"
     ]
    }
   ],
   "source": [
    "#Write a python program to get the largest number from a list\n",
    "numbers_in_list = [200,500,1000,6000,570,400]\n",
    "print('Largest element is:', max(numbers_in_list))"
   ]
  },
  {
   "cell_type": "code",
   "execution_count": 20,
   "id": "04804950",
   "metadata": {},
   "outputs": [
    {
     "name": "stdout",
     "output_type": "stream",
     "text": [
      "{'a': 1, 'b': 2, 'c': 3, 'd': 4}\n",
      "{'b': 2, 'c': 3, 'd': 4}\n"
     ]
    }
   ],
   "source": [
    "#Write a python program to remove a key from a dictionary\n",
    "my_items = {'a':1, 'b':2,'c':3,'d':4}\n",
    "print(my_items)\n",
    "if 'a' in my_items:\n",
    "    del my_items ['a']\n",
    "print(my_items)"
   ]
  },
  {
   "cell_type": "code",
   "execution_count": null,
   "id": "2e058cfd",
   "metadata": {},
   "outputs": [],
   "source": []
  }
 ],
 "metadata": {
  "kernelspec": {
   "display_name": "Python 3 (ipykernel)",
   "language": "python",
   "name": "python3"
  },
  "language_info": {
   "codemirror_mode": {
    "name": "ipython",
    "version": 3
   },
   "file_extension": ".py",
   "mimetype": "text/x-python",
   "name": "python",
   "nbconvert_exporter": "python",
   "pygments_lexer": "ipython3",
   "version": "3.9.12"
  }
 },
 "nbformat": 4,
 "nbformat_minor": 5
}
